{
 "cells": [
  {
   "cell_type": "code",
   "execution_count": null,
   "metadata": {},
   "outputs": [],
   "source": [
    "'''My past research projects involved analyzing metal prices. One of the resources I used was the USGS mineral \n",
    "commodities survey. I analyzed the fluctuating prices of aluminum, lithium, cobalt, how much of each element was \n",
    "recycled, where each element came from, and how large the U.S. reserves of each elements were. \n",
    "However, I never needed to predict future trends and so I thought it would be an interesting exercise in ML.'''"
   ]
  },
  {
   "cell_type": "code",
   "execution_count": 75,
   "metadata": {},
   "outputs": [
    {
     "name": "stdout",
     "output_type": "stream",
     "text": [
      "1210\n",
      "[1, 2, 1, 0]\n"
     ]
    }
   ],
   "source": [
    "from IPython.display import display\n",
    "import pandas as pd\n",
    "import matplotlib.pyplot as plt\n",
    "import numpy as np\n",
    "import scipy as sp\n",
    "from sklearn.model_selection import train_test_split\n",
    "from sklearn.model_selection import cross_val_score\n",
    "from sklearn.model_selection import StratifiedKFold\n",
    "from sklearn.metrics import classification_report\n",
    "from sklearn.metrics import confusion_matrix\n",
    "from sklearn.metrics import accuracy_score\n",
    "from sklearn.linear_model import LogisticRegression\n",
    "from sklearn.tree import DecisionTreeClassifier\n",
    "from sklearn.neighbors import KNeighborsClassifier\n",
    "from sklearn.discriminant_analysis import LinearDiscriminantAnalysis\n",
    "from sklearn.naive_bayes import GaussianNB\n",
    "from sklearn.svm import SVC\n",
    "%matplotlib inline \n",
    "\n",
    "def readfile(filename):\n",
    "    return pd.read_csv(filename,index_col=0)\n",
    "\n",
    "aldata=readfile('2016 US Aluminum Export Data.csv')\n",
    "\n",
    "# fig = plt.figure(figsize = (10,10))\n",
    "# ax = fig.gca()\n",
    "# aldata.hist(ax = ax)\n",
    "# plt.show()\n",
    "\n",
    "array=aldata.values\n",
    "# print(array)\n",
    "\n",
    "X = array[:,0:6]\n",
    "Y = array[:,6]\n",
    "# print(Y)\n",
    "X_train, X_validation, Y_train, Y_validation = train_test_split(X, Y, test_size=0.20, random_state=1)\n",
    "\n",
    "models = []\n",
    "models.append(('LR', LogisticRegression(solver='liblinear', multi_class='ovr')))\n",
    "models.append(('LDA', LinearDiscriminantAnalysis()))\n",
    "models.append(('KNN', KNeighborsClassifier()))\n",

   
  },
  {
   "cell_type": "code",
   "execution_count": null,
   "metadata": {},
   "outputs": [],
   "source": []
  },
  {
   "cell_type": "code",
   "execution_count": null,
   "metadata": {},
   "outputs": [],
   "source": []
  }
 ],
 "metadata": {
  "kernelspec": {
   "display_name": "Python 3",
   "language": "python",
   "name": "python3"
  }
 },
 "nbformat": 4,
 "nbformat_minor": 4
}
